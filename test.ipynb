{
 "cells": [
  {
   "cell_type": "code",
   "execution_count": null,
   "metadata": {
    "vscode": {
     "languageId": "plaintext"
    }
   },
   "outputs": [],
   "source": [
    "from optimization_tool import Optimizer\n",
    "\n",
    "# Show template for usage\n",
    "opt = Optimizer()\n",
    "opt.show_template()\n",
    "\n",
    "# Example Problem\n",
    "opt.set_objective([-3, -5])  # Coefficients for the objective function\n",
    "opt.add_constraint([1, 0], 4, '<=')\n",
    "opt.add_constraint([0, 2], 12, '<=')\n",
    "opt.add_constraint([3, 2], 18, '<=')\n",
    "opt.set_bounds([(0, None), (0, None)])  # Bounds for decision variables\n",
    "\n",
    "result = opt.solve()\n",
    "print(\"Optimal Solution:\", result.x)\n"
   ]
  }
 ],
 "metadata": {
  "language_info": {
   "name": "python"
  }
 },
 "nbformat": 4,
 "nbformat_minor": 2
}
